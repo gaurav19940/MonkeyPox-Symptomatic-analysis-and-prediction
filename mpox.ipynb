{
  "cells": [
    {
      "cell_type": "code",
      "execution_count": null,
      "id": "9479eab3",
      "metadata": {
        "id": "9479eab3"
      },
      "outputs": [],
      "source": [
        "import numpy as np\n",
        "import pandas as pd\n",
        "import matplotlib.pyplot as plt\n",
        "import os\n",
        "import seaborn as sns"
      ]
    },
    {
      "cell_type": "code",
      "execution_count": null,
      "id": "6343fd56",
      "metadata": {
        "colab": {
          "base_uri": "https://localhost:8080/",
          "height": 285
        },
        "id": "6343fd56",
        "outputId": "03bdb2ac-88f8-4d5e-b56b-ef0df20d9c0f"
      },
      "outputs": [
        {
          "output_type": "execute_result",
          "data": {
            "text/plain": [
              "      Systemic Illness  Rectal Pain  Sore Throat  Penile Oedema  Oral Lesions  \\\n",
              "0                 None        False         True           True          True   \n",
              "1                Fever         True        False           True          True   \n",
              "2                Fever        False         True           True         False   \n",
              "3                 None         True        False          False         False   \n",
              "4  Swollen Lymph Nodes         True         True           True         False   \n",
              "\n",
              "   Solitary Lesion  Swollen Tonsils  HIV Infection  \\\n",
              "0            False             True          False   \n",
              "1            False            False           True   \n",
              "2            False            False           True   \n",
              "3             True             True           True   \n",
              "4            False             True           True   \n",
              "\n",
              "   Sexually Transmitted Infection MonkeyPox  \n",
              "0                           False  Negative  \n",
              "1                           False  Positive  \n",
              "2                           False  Positive  \n",
              "3                           False  Positive  \n",
              "4                           False  Positive  "
            ],
            "text/html": [
              "\n",
              "  <div id=\"df-c4ae99b6-1296-4aa6-b68d-8c13c47c4a8a\">\n",
              "    <div class=\"colab-df-container\">\n",
              "      <div>\n",
              "<style scoped>\n",
              "    .dataframe tbody tr th:only-of-type {\n",
              "        vertical-align: middle;\n",
              "    }\n",
              "\n",
              "    .dataframe tbody tr th {\n",
              "        vertical-align: top;\n",
              "    }\n",
              "\n",
              "    .dataframe thead th {\n",
              "        text-align: right;\n",
              "    }\n",
              "</style>\n",
              "<table border=\"1\" class=\"dataframe\">\n",
              "  <thead>\n",
              "    <tr style=\"text-align: right;\">\n",
              "      <th></th>\n",
              "      <th>Systemic Illness</th>\n",
              "      <th>Rectal Pain</th>\n",
              "      <th>Sore Throat</th>\n",
              "      <th>Penile Oedema</th>\n",
              "      <th>Oral Lesions</th>\n",
              "      <th>Solitary Lesion</th>\n",
              "      <th>Swollen Tonsils</th>\n",
              "      <th>HIV Infection</th>\n",
              "      <th>Sexually Transmitted Infection</th>\n",
              "      <th>MonkeyPox</th>\n",
              "    </tr>\n",
              "  </thead>\n",
              "  <tbody>\n",
              "    <tr>\n",
              "      <th>0</th>\n",
              "      <td>None</td>\n",
              "      <td>False</td>\n",
              "      <td>True</td>\n",
              "      <td>True</td>\n",
              "      <td>True</td>\n",
              "      <td>False</td>\n",
              "      <td>True</td>\n",
              "      <td>False</td>\n",
              "      <td>False</td>\n",
              "      <td>Negative</td>\n",
              "    </tr>\n",
              "    <tr>\n",
              "      <th>1</th>\n",
              "      <td>Fever</td>\n",
              "      <td>True</td>\n",
              "      <td>False</td>\n",
              "      <td>True</td>\n",
              "      <td>True</td>\n",
              "      <td>False</td>\n",
              "      <td>False</td>\n",
              "      <td>True</td>\n",
              "      <td>False</td>\n",
              "      <td>Positive</td>\n",
              "    </tr>\n",
              "    <tr>\n",
              "      <th>2</th>\n",
              "      <td>Fever</td>\n",
              "      <td>False</td>\n",
              "      <td>True</td>\n",
              "      <td>True</td>\n",
              "      <td>False</td>\n",
              "      <td>False</td>\n",
              "      <td>False</td>\n",
              "      <td>True</td>\n",
              "      <td>False</td>\n",
              "      <td>Positive</td>\n",
              "    </tr>\n",
              "    <tr>\n",
              "      <th>3</th>\n",
              "      <td>None</td>\n",
              "      <td>True</td>\n",
              "      <td>False</td>\n",
              "      <td>False</td>\n",
              "      <td>False</td>\n",
              "      <td>True</td>\n",
              "      <td>True</td>\n",
              "      <td>True</td>\n",
              "      <td>False</td>\n",
              "      <td>Positive</td>\n",
              "    </tr>\n",
              "    <tr>\n",
              "      <th>4</th>\n",
              "      <td>Swollen Lymph Nodes</td>\n",
              "      <td>True</td>\n",
              "      <td>True</td>\n",
              "      <td>True</td>\n",
              "      <td>False</td>\n",
              "      <td>False</td>\n",
              "      <td>True</td>\n",
              "      <td>True</td>\n",
              "      <td>False</td>\n",
              "      <td>Positive</td>\n",
              "    </tr>\n",
              "  </tbody>\n",
              "</table>\n",
              "</div>\n",
              "      <button class=\"colab-df-convert\" onclick=\"convertToInteractive('df-c4ae99b6-1296-4aa6-b68d-8c13c47c4a8a')\"\n",
              "              title=\"Convert this dataframe to an interactive table.\"\n",
              "              style=\"display:none;\">\n",
              "        \n",
              "  <svg xmlns=\"http://www.w3.org/2000/svg\" height=\"24px\"viewBox=\"0 0 24 24\"\n",
              "       width=\"24px\">\n",
              "    <path d=\"M0 0h24v24H0V0z\" fill=\"none\"/>\n",
              "    <path d=\"M18.56 5.44l.94 2.06.94-2.06 2.06-.94-2.06-.94-.94-2.06-.94 2.06-2.06.94zm-11 1L8.5 8.5l.94-2.06 2.06-.94-2.06-.94L8.5 2.5l-.94 2.06-2.06.94zm10 10l.94 2.06.94-2.06 2.06-.94-2.06-.94-.94-2.06-.94 2.06-2.06.94z\"/><path d=\"M17.41 7.96l-1.37-1.37c-.4-.4-.92-.59-1.43-.59-.52 0-1.04.2-1.43.59L10.3 9.45l-7.72 7.72c-.78.78-.78 2.05 0 2.83L4 21.41c.39.39.9.59 1.41.59.51 0 1.02-.2 1.41-.59l7.78-7.78 2.81-2.81c.8-.78.8-2.07 0-2.86zM5.41 20L4 18.59l7.72-7.72 1.47 1.35L5.41 20z\"/>\n",
              "  </svg>\n",
              "      </button>\n",
              "      \n",
              "  <style>\n",
              "    .colab-df-container {\n",
              "      display:flex;\n",
              "      flex-wrap:wrap;\n",
              "      gap: 12px;\n",
              "    }\n",
              "\n",
              "    .colab-df-convert {\n",
              "      background-color: #E8F0FE;\n",
              "      border: none;\n",
              "      border-radius: 50%;\n",
              "      cursor: pointer;\n",
              "      display: none;\n",
              "      fill: #1967D2;\n",
              "      height: 32px;\n",
              "      padding: 0 0 0 0;\n",
              "      width: 32px;\n",
              "    }\n",
              "\n",
              "    .colab-df-convert:hover {\n",
              "      background-color: #E2EBFA;\n",
              "      box-shadow: 0px 1px 2px rgba(60, 64, 67, 0.3), 0px 1px 3px 1px rgba(60, 64, 67, 0.15);\n",
              "      fill: #174EA6;\n",
              "    }\n",
              "\n",
              "    [theme=dark] .colab-df-convert {\n",
              "      background-color: #3B4455;\n",
              "      fill: #D2E3FC;\n",
              "    }\n",
              "\n",
              "    [theme=dark] .colab-df-convert:hover {\n",
              "      background-color: #434B5C;\n",
              "      box-shadow: 0px 1px 3px 1px rgba(0, 0, 0, 0.15);\n",
              "      filter: drop-shadow(0px 1px 2px rgba(0, 0, 0, 0.3));\n",
              "      fill: #FFFFFF;\n",
              "    }\n",
              "  </style>\n",
              "\n",
              "      <script>\n",
              "        const buttonEl =\n",
              "          document.querySelector('#df-c4ae99b6-1296-4aa6-b68d-8c13c47c4a8a button.colab-df-convert');\n",
              "        buttonEl.style.display =\n",
              "          google.colab.kernel.accessAllowed ? 'block' : 'none';\n",
              "\n",
              "        async function convertToInteractive(key) {\n",
              "          const element = document.querySelector('#df-c4ae99b6-1296-4aa6-b68d-8c13c47c4a8a');\n",
              "          const dataTable =\n",
              "            await google.colab.kernel.invokeFunction('convertToInteractive',\n",
              "                                                     [key], {});\n",
              "          if (!dataTable) return;\n",
              "\n",
              "          const docLinkHtml = 'Like what you see? Visit the ' +\n",
              "            '<a target=\"_blank\" href=https://colab.research.google.com/notebooks/data_table.ipynb>data table notebook</a>'\n",
              "            + ' to learn more about interactive tables.';\n",
              "          element.innerHTML = '';\n",
              "          dataTable['output_type'] = 'display_data';\n",
              "          await google.colab.output.renderOutput(dataTable, element);\n",
              "          const docLink = document.createElement('div');\n",
              "          docLink.innerHTML = docLinkHtml;\n",
              "          element.appendChild(docLink);\n",
              "        }\n",
              "      </script>\n",
              "    </div>\n",
              "  </div>\n",
              "  "
            ]
          },
          "metadata": {},
          "execution_count": 3
        }
      ],
      "source": [
        "data=pd.read_csv('/content/DATA.csv')\n",
        "data=data.drop('Patient_ID',axis=1)\n",
        "data.head()"
      ]
    },
    {
      "cell_type": "code",
      "execution_count": null,
      "id": "70ef36a7",
      "metadata": {
        "scrolled": true,
        "id": "70ef36a7",
        "colab": {
          "base_uri": "https://localhost:8080/"
        },
        "outputId": "4ef1b570-6925-4d60-936f-df896c60851f"
      },
      "outputs": [
        {
          "output_type": "stream",
          "name": "stdout",
          "text": [
            "<class 'pandas.core.frame.DataFrame'>\n",
            "RangeIndex: 25000 entries, 0 to 24999\n",
            "Data columns (total 10 columns):\n",
            " #   Column                          Non-Null Count  Dtype \n",
            "---  ------                          --------------  ----- \n",
            " 0   Systemic Illness                25000 non-null  object\n",
            " 1   Rectal Pain                     25000 non-null  bool  \n",
            " 2   Sore Throat                     25000 non-null  bool  \n",
            " 3   Penile Oedema                   25000 non-null  bool  \n",
            " 4   Oral Lesions                    25000 non-null  bool  \n",
            " 5   Solitary Lesion                 25000 non-null  bool  \n",
            " 6   Swollen Tonsils                 25000 non-null  bool  \n",
            " 7   HIV Infection                   25000 non-null  bool  \n",
            " 8   Sexually Transmitted Infection  25000 non-null  bool  \n",
            " 9   MonkeyPox                       25000 non-null  object\n",
            "dtypes: bool(8), object(2)\n",
            "memory usage: 586.1+ KB\n"
          ]
        }
      ],
      "source": [
        "data.info()\n"
      ]
    },
    {
      "cell_type": "code",
      "source": [
        "fig, ax = plt.subplots(2, 4, figsize=(20, 8))\n",
        "ax = ax.flatten()\n",
        "palette = sns.color_palette('pastel')\n",
        "for idx, feature in enumerate(data.columns.drop(['MonkeyPox', 'Systemic Illness'])):\n",
        "    sns.countplot(x=feature, hue='MonkeyPox', data=data, palette=palette, ax=ax[idx])\n",
        "    ax[idx].set_title(feature, fontsize=20)\n",
        "    ax[idx].set(ylabel=None, xlabel=None)\n",
        "    ax[idx].tick_params(axis='both', labelsize=12)"
      ],
      "metadata": {
        "colab": {
          "base_uri": "https://localhost:8080/",
          "height": 472
        },
        "id": "acTaSbwCe84b",
        "outputId": "6a7bd642-b8a1-49b0-b364-92bc5acf7507"
      },
      "id": "acTaSbwCe84b",
      "execution_count": null,
      "outputs": [
        {
          "output_type": "display_data",
          "data": {
            "text/plain": [
              "<Figure size 1440x576 with 8 Axes>"
            ],
            "image/png": "[encoded data removed]"
          },
          "metadata": {
            "needs_background": "light"
          }
        }
      ]
    },
    {
      "cell_type": "code",
      "execution_count": null,
      "id": "6bb4b545",
      "metadata": {
        "id": "6bb4b545"
      },
      "outputs": [],
      "source": [
        "from sklearn.preprocessing import LabelEncoder\n",
        "le=LabelEncoder()\n",
        "data[\"Systemic Illness\"]=le.fit_transform(data[\"Systemic Illness\"])\n",
        "data[\"MonkeyPox\"]=le.fit_transform(data[\"MonkeyPox\"])\n",
        "data[\"Rectal Pain\"]=le.fit_transform(data[\"Rectal Pain\"])\n",
        "data[\"Sore Throat\"]=le.fit_transform(data[\"Sore Throat\"])\n",
        "data[\"Penile Oedema\"]=le.fit_transform(data[\"Penile Oedema\"])\n",
        "data[\"Oral Lesions\"]=le.fit_transform(data[\"Oral Lesions\"])\n",
        "data[\"Solitary Lesion\"]=le.fit_transform(data[\"Solitary Lesion\"])\n",
        "data[\"Swollen Tonsils\"]=le.fit_transform(data[\"Swollen Tonsils\"])\n",
        "data[\"HIV Infection\"]=le.fit_transform(data[\"HIV Infection\"])\n",
        "data[\"Sexually Transmitted Infection\"]=le.fit_transform(data[\"Sexually Transmitted Infection\"])"
      ]
    },
    {
      "cell_type": "code",
      "execution_count": null,
      "id": "03a32519",
      "metadata": {
        "id": "03a32519",
        "colab": {
          "base_uri": "https://localhost:8080/"
        },
        "outputId": "c7f3b3f9-1063-4977-82af-2f5ccd25a756"
      },
      "outputs": [
        {
          "output_type": "stream",
          "name": "stdout",
          "text": [
            "Train set:  17500\n",
            "Test set:  7500\n"
          ]
        }
      ],
      "source": [
        "from sklearn.model_selection import train_test_split\n",
        "trainset,testset=train_test_split(data,test_size=0.3,random_state=42)\n",
        "print(\"Train set: \",len(trainset))\n",
        "print(\"Test set: \",len(testset))"
      ]
    },
    {
      "cell_type": "code",
      "execution_count": null,
      "id": "85bf2932",
      "metadata": {
        "id": "85bf2932"
      },
      "outputs": [],
      "source": [
        "trainfeatures=trainset.drop('MonkeyPox',axis=1)\n",
        "trainlabel=trainset[\"MonkeyPox\"].copy()\n"
      ]
    },
    {
      "cell_type": "code",
      "execution_count": null,
      "id": "118e2570",
      "metadata": {
        "id": "118e2570"
      },
      "outputs": [],
      "source": [
        "testfeatures=testset.drop('MonkeyPox',axis=1)\n",
        "testlabel=testset[\"MonkeyPox\"].copy()"
      ]
    },
    {
      "cell_type": "code",
      "source": [],
      "metadata": {
        "id": "VjysKyX7pGxl"
      },
      "id": "VjysKyX7pGxl",
      "execution_count": null,
      "outputs": []
    },
    {
      "cell_type": "code",
      "execution_count": null,
      "id": "678751ae",
      "metadata": {
        "id": "678751ae"
      },
      "outputs": [],
      "source": [
        "from sklearn.tree import DecisionTreeClassifier\n",
        "tree=DecisionTreeClassifier(random_state = 1, max_depth = 8, min_samples_split = 100, min_samples_leaf = 5)\n",
        "tree.fit(trainfeatures,trainlabel)\n",
        "treepred=tree.predict(testfeatures)"
      ]
    },
    {
      "cell_type": "code",
      "execution_count": null,
      "id": "fa082ce6",
      "metadata": {
        "id": "fa082ce6",
        "colab": {
          "base_uri": "https://localhost:8080/"
        },
        "outputId": "6735108a-02dc-47e0-c070-eb34bf15bef3"
      },
      "outputs": [
        {
          "output_type": "stream",
          "name": "stdout",
          "text": [
            "Decision Tree model accuracy(in %): 69.26666666666667\n"
          ]
        }
      ],
      "source": [
        "from sklearn.metrics import accuracy_score\n",
        "print(\"Decision Tree model accuracy(in %):\",accuracy_score(testlabel, treepred)*100)"
      ]
    },
    {
      "cell_type": "code",
      "execution_count": null,
      "id": "ed893deb",
      "metadata": {
        "id": "ed893deb",
        "colab": {
          "base_uri": "https://localhost:8080/",
          "height": 296
        },
        "outputId": "738303a2-947d-49f4-f890-47f93e6846cb"
      },
      "outputs": [
        {
          "output_type": "execute_result",
          "data": {
            "text/plain": [
              "<sklearn.metrics._plot.confusion_matrix.ConfusionMatrixDisplay at 0x7f9786454dc0>"
            ]
          },
          "metadata": {},
          "execution_count": 12
        },
        {
          "output_type": "display_data",
          "data": {
            "text/plain": [
              "<Figure size 432x288 with 2 Axes>"
            ],
            "image/png": "[encoded data removed]"
          },
          "metadata": {
            "needs_background": "light"
          }
        }
      ],
      "source": [
        "from sklearn.metrics import confusion_matrix,ConfusionMatrixDisplay\n",
        "treecon=confusion_matrix(testlabel,treepred)\n",
        "treedisp=ConfusionMatrixDisplay(treecon)\n",
        "treedisp.plot()"
      ]
    },
    {
      "cell_type": "code",
      "execution_count": null,
      "id": "36cebb26",
      "metadata": {
        "id": "36cebb26",
        "colab": {
          "base_uri": "https://localhost:8080/"
        },
        "outputId": "b8847e4b-9e63-44a6-9030-023772a09395"
      },
      "outputs": [
        {
          "output_type": "execute_result",
          "data": {
            "text/plain": [
              "GaussianNB()"
            ]
          },
          "metadata": {},
          "execution_count": 13
        }
      ],
      "source": [
        "from sklearn.naive_bayes import GaussianNB\n",
        "gnb = GaussianNB()\n",
        "gnb.fit(trainfeatures, trainlabel)"
      ]
    },
    {
      "cell_type": "code",
      "execution_count": null,
      "id": "ed45fdce",
      "metadata": {
        "id": "ed45fdce"
      },
      "outputs": [],
      "source": [
        "gnbpred = gnb.predict(testfeatures)"
      ]
    },
    {
      "cell_type": "code",
      "execution_count": null,
      "id": "96d9ae3e",
      "metadata": {
        "id": "96d9ae3e",
        "colab": {
          "base_uri": "https://localhost:8080/"
        },
        "outputId": "bf34ed82-0883-4324-ae14-da7cad700b04"
      },
      "outputs": [
        {
          "output_type": "stream",
          "name": "stdout",
          "text": [
            "naive bayes model accuracy(in %): 68.65333333333334\n"
          ]
        }
      ],
      "source": [
        "from sklearn.metrics import accuracy_score\n",
        "print(\"naive bayes model accuracy(in %):\",accuracy_score(testlabel, gnbpred)*100)"
      ]
    },
    {
      "cell_type": "code",
      "execution_count": null,
      "metadata": {
        "id": "abfc935b",
        "colab": {
          "base_uri": "https://localhost:8080/"
        },
        "outputId": "b5b54187-bff6-4b4b-8572-ca2426335c0c"
      },
      "outputs": [
        {
          "output_type": "stream",
          "name": "stdout",
          "text": [
            "Logistic Regression accuracy(in %): 66.88\n"
          ]
        }
      ],
      "source": [
        "from sklearn.linear_model import LogisticRegression\n",
        "lr_model = LogisticRegression()\n",
        "lr_model.fit(trainfeatures,trainlabel)\n",
        "\n",
        "lr_pred = lr_model.predict(testfeatures)\n",
        "print(\"Logistic Regression accuracy(in %):\",accuracy_score(testlabel, lr_pred)*100)"
      ],
      "id": "abfc935b"
    },
    {
      "cell_type": "code",
      "execution_count": null,
      "id": "5b282dc3",
      "metadata": {
        "id": "5b282dc3",
        "colab": {
          "base_uri": "https://localhost:8080/"
        },
        "outputId": "6582fa99-964a-4c61-a827-5c63a9d8c915"
      },
      "outputs": [
        {
          "output_type": "stream",
          "name": "stdout",
          "text": [
            "Random Forest model accuracy(in %): 69.86666666666666\n"
          ]
        }
      ],
      "source": [
        "from sklearn.ensemble import RandomForestClassifier\n",
        "rnd=RandomForestClassifier(random_state = 1, max_depth = 15,n_estimators = 600, min_samples_split = 100, min_samples_leaf = 5)\n",
        "rnd.fit(trainfeatures,trainlabel)\n",
        "\n",
        "rndpred=rnd.predict(testfeatures)\n",
        "print(\"Random Forest model accuracy(in %):\",accuracy_score(testlabel, rndpred)*100)"
      ]
    },
    {
      "cell_type": "code",
      "source": [
        "import keras\n",
        "from keras.models import Sequential\n",
        "from keras.layers import Dense\n",
        "from keras.layers import Activation\n",
        "from keras.layers import Dropout\n",
        "from keras.constraints import max_norm"
      ],
      "metadata": {
        "id": "F8I1zzmEg5Yr"
      },
      "id": "F8I1zzmEg5Yr",
      "execution_count": null,
      "outputs": []
    },
    {
      "cell_type": "code",
      "source": [
        "model = Sequential()\n",
        "\n",
        "\n",
        "\n",
        "\n",
        "model.add(Dense(9,  input_shape=[trainfeatures.shape[1]],activation='relu'))\n",
        "model.add(Dropout(0.2))\n",
        "\n",
        "model.add(Dense(30, activation='relu'))\n",
        "model.add(Dropout(0.2))\n",
        "\n",
        "model.add(Dense(15, activation='relu'))\n",
        "model.add(Dropout(0.2))\n",
        "\n",
        "model.add(Dense(15, activation='relu'))\n",
        "\n",
        "model.add(Dense(units=1,activation='sigmoid'))\n",
        "\n",
        "\n",
        "model.compile(loss='binary_crossentropy', optimizer='adam')"
      ],
      "metadata": {
        "id": "T-3uHARMhFXl"
      },
      "id": "T-3uHARMhFXl",
      "execution_count": null,
      "outputs": []
    },
    {
      "cell_type": "code",
      "source": [
        "model.fit(x=testfeatures,\n",
        "          y=testlabel,\n",
        "          epochs=25,\n",
        "          batch_size=256,\n",
        "          validation_data=(testfeatures,testlabel ),\n",
        "          )"
      ],
      "metadata": {
        "colab": {
          "base_uri": "https://localhost:8080/"
        },
        "id": "2P6SUEcDiUqI",
        "outputId": "e028474f-a59c-4aaf-9476-b330a12e6dd9"
      },
      "id": "2P6SUEcDiUqI",
      "execution_count": null,
      "outputs": [
        {
          "output_type": "stream",
          "name": "stdout",
          "text": [
            "Epoch 1/25\n",
            "30/30 [==============================] - 1s 11ms/step - loss: 0.7009 - val_loss: 0.6630\n",
            "Epoch 2/25\n",
            "30/30 [==============================] - 0s 5ms/step - loss: 0.6621 - val_loss: 0.6509\n",
            "Epoch 3/25\n",
            "30/30 [==============================] - 0s 5ms/step - loss: 0.6545 - val_loss: 0.6486\n",
            "Epoch 4/25\n",
            "30/30 [==============================] - 0s 5ms/step - loss: 0.6512 - val_loss: 0.6459\n",
            "Epoch 5/25\n",
            "30/30 [==============================] - 0s 5ms/step - loss: 0.6499 - val_loss: 0.6441\n",
            "Epoch 6/25\n",
            "30/30 [==============================] - 0s 5ms/step - loss: 0.6501 - val_loss: 0.6423\n",
            "Epoch 7/25\n",
            "30/30 [==============================] - 0s 6ms/step - loss: 0.6465 - val_loss: 0.6398\n",
            "Epoch 8/25\n",
            "30/30 [==============================] - 0s 4ms/step - loss: 0.6426 - val_loss: 0.6360\n",
            "Epoch 9/25\n",
            "30/30 [==============================] - 0s 5ms/step - loss: 0.6417 - val_loss: 0.6331\n",
            "Epoch 10/25\n",
            "30/30 [==============================] - 0s 4ms/step - loss: 0.6362 - val_loss: 0.6305\n",
            "Epoch 11/25\n",
            "30/30 [==============================] - 0s 4ms/step - loss: 0.6382 - val_loss: 0.6300\n",
            "Epoch 12/25\n",
            "30/30 [==============================] - 0s 4ms/step - loss: 0.6345 - val_loss: 0.6268\n",
            "Epoch 13/25\n",
            "30/30 [==============================] - 0s 4ms/step - loss: 0.6338 - val_loss: 0.6261\n",
            "Epoch 14/25\n",
            "30/30 [==============================] - 0s 5ms/step - loss: 0.6332 - val_loss: 0.6237\n",
            "Epoch 15/25\n",
            "30/30 [==============================] - 0s 5ms/step - loss: 0.6296 - val_loss: 0.6238\n",
            "Epoch 16/25\n",
            "30/30 [==============================] - 0s 5ms/step - loss: 0.6286 - val_loss: 0.6192\n",
            "Epoch 17/25\n",
            "30/30 [==============================] - 0s 4ms/step - loss: 0.6261 - val_loss: 0.6205\n",
            "Epoch 18/25\n",
            "30/30 [==============================] - 0s 5ms/step - loss: 0.6242 - val_loss: 0.6177\n",
            "Epoch 19/25\n",
            "30/30 [==============================] - 0s 4ms/step - loss: 0.6257 - val_loss: 0.6153\n",
            "Epoch 20/25\n",
            "30/30 [==============================] - 0s 5ms/step - loss: 0.6220 - val_loss: 0.6135\n",
            "Epoch 21/25\n",
            "30/30 [==============================] - 0s 4ms/step - loss: 0.6195 - val_loss: 0.6125\n",
            "Epoch 22/25\n",
            "30/30 [==============================] - 0s 4ms/step - loss: 0.6212 - val_loss: 0.6103\n",
            "Epoch 23/25\n",
            "30/30 [==============================] - 0s 5ms/step - loss: 0.6193 - val_loss: 0.6122\n",
            "Epoch 24/25\n",
            "30/30 [==============================] - 0s 4ms/step - loss: 0.6162 - val_loss: 0.6094\n",
            "Epoch 25/25\n",
            "30/30 [==============================] - 0s 5ms/step - loss: 0.6161 - val_loss: 0.6071\n"
          ]
        },
        {
          "output_type": "execute_result",
          "data": {
            "text/plain": [
              "<keras.callbacks.History at 0x7f97277cef70>"
            ]
          },
          "metadata": {},
          "execution_count": 21
        }
      ]
    },
    {
      "cell_type": "code",
      "source": [
        "losses = pd.DataFrame(model.history.history)"
      ],
      "metadata": {
        "id": "didGpcZQjJjb"
      },
      "id": "didGpcZQjJjb",
      "execution_count": null,
      "outputs": []
    },
    {
      "cell_type": "code",
      "source": [
        "losses[['loss','val_loss']].plot()"
      ],
      "metadata": {
        "colab": {
          "base_uri": "https://localhost:8080/",
          "height": 282
        },
        "id": "cHv_OuTNjMLz",
        "outputId": "7f6305c5-994c-4651-c4d4-9212a615b65e"
      },
      "id": "cHv_OuTNjMLz",
      "execution_count": null,
      "outputs": [
        {
          "output_type": "execute_result",
          "data": {
            "text/plain": [
              "<matplotlib.axes._subplots.AxesSubplot at 0x7f97276d2fa0>"
            ]
          },
          "metadata": {},
          "execution_count": 23
        },
        {
          "output_type": "display_data",
          "data": {
            "text/plain": [
              "<Figure size 432x288 with 1 Axes>"
            ],
            "image/png": "[encoded data removed]"
          },
          "metadata": {
            "needs_background": "light"
          }
        }
      ]
    },
    {
      "cell_type": "code",
      "source": [
        "from sklearn.metrics import classification_report,confusion_matrix"
      ],
      "metadata": {
        "id": "QtkL4l8yjS28"
      },
      "id": "QtkL4l8yjS28",
      "execution_count": null,
      "outputs": []
    },
    {
      "cell_type": "code",
      "source": [
        "from sklearn.metrics import f1_score, recall_score, accuracy_score, precision_score"
      ],
      "metadata": {
        "id": "k0Xb5xUgm9rV"
      },
      "id": "k0Xb5xUgm9rV",
      "execution_count": null,
      "outputs": []
    },
    {
      "cell_type": "code",
      "source": [
        "prediction = model.predict(testfeatures)"
      ],
      "metadata": {
        "colab": {
          "base_uri": "https://localhost:8080/"
        },
        "id": "wB35-QE7jXCF",
        "outputId": "0c783997-93cb-4680-827e-91942e948ea6"
      },
      "id": "wB35-QE7jXCF",
      "execution_count": null,
      "outputs": [
        {
          "output_type": "stream",
          "name": "stdout",
          "text": [
            "235/235 [==============================] - 0s 1ms/step\n"
          ]
        }
      ]
    },
    {
      "cell_type": "code",
      "source": [
        "from sklearn.metrics import RocCurveDisplay"
      ],
      "metadata": {
        "id": "Vy1iYCF7ZUXH"
      },
      "id": "Vy1iYCF7ZUXH",
      "execution_count": null,
      "outputs": []
    },
    {
      "cell_type": "code",
      "source": [
        "RocCurveDisplay.from_predictions(testlabel,prediction,sample_weight=None)"
      ],
      "metadata": {
        "colab": {
          "base_uri": "https://localhost:8080/",
          "height": 296
        },
        "id": "Ns3NbNfaZMi1",
        "outputId": "7ab22ad6-b03a-46b8-86b9-f622ec752d10"
      },
      "id": "Ns3NbNfaZMi1",
      "execution_count": null,
      "outputs": [
        {
          "output_type": "execute_result",
          "data": {
            "text/plain": [
              "<sklearn.metrics._plot.roc_curve.RocCurveDisplay at 0x7f972334a700>"
            ]
          },
          "metadata": {},
          "execution_count": 38
        },
        {
          "output_type": "display_data",
          "data": {
            "text/plain": [
              "<Figure size 432x288 with 1 Axes>"
            ],
            "image/png": "[encoded data removed]"
          },
          "metadata": {
            "needs_background": "light"
          }
        }
      ]
    }
  ],
  "metadata": {
    "kernelspec": {
      "display_name": "Python 3 (ipykernel)",
      "language": "python",
      "name": "python3"
    },
    "language_info": {
      "codemirror_mode": {
        "name": "ipython",
        "version": 3
      },
      "file_extension": ".py",
      "mimetype": "text/x-python",
      "name": "python",
      "nbconvert_exporter": "python",
      "pygments_lexer": "ipython3",
      "version": "3.9.12"
    },
    "colab": {
      "provenance": []
    }
  },
  "nbformat": 4,
  "nbformat_minor": 5
}